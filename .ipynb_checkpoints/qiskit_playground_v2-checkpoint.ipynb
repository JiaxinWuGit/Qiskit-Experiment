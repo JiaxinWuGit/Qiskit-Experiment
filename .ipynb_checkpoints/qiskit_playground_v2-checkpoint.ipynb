{
 "cells": [
  {
   "cell_type": "code",
   "execution_count": 1,
   "id": "0be06c46",
   "metadata": {},
   "outputs": [],
   "source": []
  },
  {
   "cell_type": "code",
   "execution_count": 6,
   "id": "bd692361",
   "metadata": {},
   "outputs": [],
   "source": [
    "from qiskit import QuantumCircuit, execute\n",
    "from qiskit.quantum_info import state_fidelity\n",
    "from qiskit import BasicAer\n",
    "\n",
    "n = 2\n",
    "qc1 = QuantumCircuit(n)\n",
    "qc2 = QuantumCircuit(n)\n",
    "\n",
    "backend = BasicAer.get_backend('statevector_simulator')\n",
    "qc_state1 = execute(qc1, backend).result().get_statevector(qc1)\n",
    "qc_state2 = execute(qc2, backend).result().get_statevector(qc2)\n",
    "\n",
    "\n",
    "f = state_fidelity(qc_state1, qc_state2, validate=True)"
   ]
  },
  {
   "cell_type": "code",
   "execution_count": 7,
   "id": "367d47b6",
   "metadata": {},
   "outputs": [
    {
     "data": {
      "text/plain": [
       "1.0"
      ]
     },
     "execution_count": 7,
     "metadata": {},
     "output_type": "execute_result"
    }
   ],
   "source": [
    "f"
   ]
  },
  {
   "cell_type": "code",
   "execution_count": 2,
   "id": "b4ae430e",
   "metadata": {},
   "outputs": [
    {
     "data": {
      "text/plain": [
       "<qiskit.circuit.instructionset.InstructionSet at 0x2075efa7e80>"
      ]
     },
     "execution_count": 2,
     "metadata": {},
     "output_type": "execute_result"
    }
   ],
   "source": [
    "from qiskit import QuantumCircuit\n",
    "\n",
    "qc1 = QuantumCircuit(1)\n",
    "qc1.h(0)\n",
    "qc1.x(0)\n",
    "qc1.y(0)\n",
    "custom_gate = qc1.to_instruction()\n",
    "\n",
    "qc2 = QuantumCircuit(2)\n",
    "qc2.append(custom_gate, [0])"
   ]
  },
  {
   "cell_type": "code",
   "execution_count": null,
   "id": "91a56952",
   "metadata": {},
   "outputs": [],
   "source": [
    "q"
   ]
  }
 ],
 "metadata": {
  "kernelspec": {
   "display_name": "qiskit_env",
   "language": "python",
   "name": "qiskit_env"
  },
  "language_info": {
   "codemirror_mode": {
    "name": "ipython",
    "version": 3
   },
   "file_extension": ".py",
   "mimetype": "text/x-python",
   "name": "python",
   "nbconvert_exporter": "python",
   "pygments_lexer": "ipython3",
   "version": "3.8.11"
  }
 },
 "nbformat": 4,
 "nbformat_minor": 5
}
